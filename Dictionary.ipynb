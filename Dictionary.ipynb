{
  "nbformat": 4,
  "nbformat_minor": 0,
  "metadata": {
    "colab": {
      "name": "Dictionary.ipynb",
      "provenance": [],
      "authorship_tag": "ABX9TyPz2AjB7BEcB8ozQepPw3n3",
      "include_colab_link": true
    },
    "kernelspec": {
      "name": "python3",
      "display_name": "Python 3"
    },
    "language_info": {
      "name": "python"
    }
  },
  "cells": [
    {
      "cell_type": "markdown",
      "metadata": {
        "id": "view-in-github",
        "colab_type": "text"
      },
      "source": [
        "<a href=\"https://colab.research.google.com/github/Ayantika1998/Dictionary/blob/main/Dictionary.ipynb\" target=\"_parent\"><img src=\"https://colab.research.google.com/assets/colab-badge.svg\" alt=\"Open In Colab\"/></a>"
      ]
    },
    {
      "cell_type": "code",
      "execution_count": 13,
      "metadata": {
        "id": "tLnrKvd52QGB"
      },
      "outputs": [],
      "source": [
        "def Dictionary():\n",
        " str = input(\"type your sentence:\")\n",
        " words = []\n",
        "\n",
        " items = str.split() \n",
        " dict2 = {}\n",
        " for key in items:\n",
        "    dict2[key] = items.count(key)\n",
        "\n",
        " print(\"Items count  :  \", dict2)\n"
      ]
    },
    {
      "cell_type": "code",
      "source": [
        "Dictionary()"
      ],
      "metadata": {
        "colab": {
          "base_uri": "https://localhost:8080/"
        },
        "id": "q5Si7XLJ6hN0",
        "outputId": "8ba4b095-b978-4362-a7cf-0c3aaa7dd3b5"
      },
      "execution_count": 15,
      "outputs": [
        {
          "output_type": "stream",
          "name": "stdout",
          "text": [
            "type your sentence:how are you and how is ur potato\n",
            "Items count  :   {'how': 2, 'are': 1, 'you': 1, 'and': 1, 'is': 1, 'ur': 1, 'potato': 1}\n"
          ]
        }
      ]
    }
  ]
}